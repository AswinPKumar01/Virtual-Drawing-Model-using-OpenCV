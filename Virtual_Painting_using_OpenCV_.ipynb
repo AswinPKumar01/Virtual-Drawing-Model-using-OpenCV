{
  "nbformat": 4,
  "nbformat_minor": 0,
  "metadata": {
    "colab": {
      "provenance": []
    },
    "kernelspec": {
      "name": "python3",
      "display_name": "Python 3"
    },
    "language_info": {
      "name": "python"
    }
  },
  "cells": [
    {
      "cell_type": "code",
      "execution_count": 1,
      "metadata": {
        "id": "ANR8LIq498F2"
      },
      "outputs": [],
      "source": [
        "#importing necessary modules\n",
        "\n",
        "import numpy as np\n",
        "import cv2\n",
        "from collections import deque"
      ]
    },
    {
      "cell_type": "code",
      "source": [
        "Lower_red = np.array([161, 155, 84])\n",
        "\n",
        "Upper_red = np.array([179, 255, 255])"
      ],
      "metadata": {
        "id": "Tki1TwGM-JPo"
      },
      "execution_count": 2,
      "outputs": []
    },
    {
      "cell_type": "code",
      "source": [
        "bpoints = [deque(maxlen=512)]\n",
        "\n",
        "gpoints = [deque(maxlen=512)]\n",
        "\n",
        "rpoints = [deque(maxlen=512)]\n",
        "\n",
        "ypoints = [deque(maxlen=512)]\n",
        "\n",
        "bindex = 0\n",
        "gindex = 0\n",
        "rindex = 0\n",
        "yindex = 0\n",
        "\n",
        "colors = [(255, 0, 0), (0, 255, 0), (0, 0, 255), (0, 255, 255)]\n",
        "\n",
        "colorIndex = 0"
      ],
      "metadata": {
        "id": "x13yHl2I-SNX"
      },
      "execution_count": 5,
      "outputs": []
    },
    {
      "cell_type": "code",
      "source": [
        "Window = np.zeros((471,636,3)) + 255\n",
        "\n",
        "Window = cv2.rectangle(paintWindow, (40,1), (140,65), (0,0,0), 2)\n",
        "\n",
        "Window = cv2.rectangle(paintWindow, (160,1), (255,65), colors[0], -1)\n",
        "\n",
        "Window = cv2.rectangle(paintWindow, (275,1), (370,65), colors[1], -1)\n",
        "\n",
        "Window = cv2.rectangle(paintWindow, (390,1), (485,65), colors[2], -1)\n",
        "\n",
        "Window = cv2.rectangle(paintWindow, (505,1), (600,65), colors[3], -1)\n",
        "\n",
        "cv2.putText(Window, \"CLEAR ALL\", (49, 33), cv2.FONT_HERSHEY_SIMPLEX, 0.5, (0, 0, 0), 2, cv2.LINE_AA)\n",
        "\n",
        "cv2.putText(Window, \"BLUE\", (185, 33), cv2.FONT_HERSHEY_SIMPLEX, 0.5, (255, 255, 255), 2, cv2.LINE_AA)\n",
        "\n",
        "cv2.putText(Window, \"GREEN\", (298, 33), cv2.FONT_HERSHEY_SIMPLEX, 0.5, (255, 255, 255), 2, cv2.LINE_AA)\n",
        "\n",
        "cv2.putText(Window, \"RED\", (420, 33), cv2.FONT_HERSHEY_SIMPLEX, 0.5, (255, 255, 255), 2, cv2.LINE_AA)\n",
        "\n",
        "cv2.putText(Window, \"YELLOW\", (520, 33), cv2.FONT_HERSHEY_SIMPLEX, 0.5, (150,150,150), 2, cv2.LINE_AA)\n",
        "\n",
        "cv2.namedWindow('Paint', cv2.WINDOW_AUTOSIZE)\n"
      ],
      "metadata": {
        "colab": {
          "base_uri": "https://localhost:8080/",
          "height": 236
        },
        "id": "CTvv1hLS-yTL",
        "outputId": "a6bcacea-5869-4f2d-cadb-b4c8054ac500"
      },
      "execution_count": 10,
      "outputs": [
        {
          "output_type": "error",
          "ename": "NameError",
          "evalue": "ignored",
          "traceback": [
            "\u001b[0;31m---------------------------------------------------------------------------\u001b[0m",
            "\u001b[0;31mNameError\u001b[0m                                 Traceback (most recent call last)",
            "\u001b[0;32m<ipython-input-10-11bb58010405>\u001b[0m in \u001b[0;36m<cell line: 3>\u001b[0;34m()\u001b[0m\n\u001b[1;32m      1\u001b[0m \u001b[0mWindow\u001b[0m \u001b[0;34m=\u001b[0m \u001b[0mnp\u001b[0m\u001b[0;34m.\u001b[0m\u001b[0mzeros\u001b[0m\u001b[0;34m(\u001b[0m\u001b[0;34m(\u001b[0m\u001b[0;36m471\u001b[0m\u001b[0;34m,\u001b[0m\u001b[0;36m636\u001b[0m\u001b[0;34m,\u001b[0m\u001b[0;36m3\u001b[0m\u001b[0;34m)\u001b[0m\u001b[0;34m)\u001b[0m \u001b[0;34m+\u001b[0m \u001b[0;36m255\u001b[0m\u001b[0;34m\u001b[0m\u001b[0;34m\u001b[0m\u001b[0m\n\u001b[1;32m      2\u001b[0m \u001b[0;34m\u001b[0m\u001b[0m\n\u001b[0;32m----> 3\u001b[0;31m \u001b[0mWindow\u001b[0m \u001b[0;34m=\u001b[0m \u001b[0mcv2\u001b[0m\u001b[0;34m.\u001b[0m\u001b[0mrectangle\u001b[0m\u001b[0;34m(\u001b[0m\u001b[0mpaintWindow\u001b[0m\u001b[0;34m,\u001b[0m \u001b[0;34m(\u001b[0m\u001b[0;36m40\u001b[0m\u001b[0;34m,\u001b[0m\u001b[0;36m1\u001b[0m\u001b[0;34m)\u001b[0m\u001b[0;34m,\u001b[0m \u001b[0;34m(\u001b[0m\u001b[0;36m140\u001b[0m\u001b[0;34m,\u001b[0m\u001b[0;36m65\u001b[0m\u001b[0;34m)\u001b[0m\u001b[0;34m,\u001b[0m \u001b[0;34m(\u001b[0m\u001b[0;36m0\u001b[0m\u001b[0;34m,\u001b[0m\u001b[0;36m0\u001b[0m\u001b[0;34m,\u001b[0m\u001b[0;36m0\u001b[0m\u001b[0;34m)\u001b[0m\u001b[0;34m,\u001b[0m \u001b[0;36m2\u001b[0m\u001b[0;34m)\u001b[0m\u001b[0;34m\u001b[0m\u001b[0;34m\u001b[0m\u001b[0m\n\u001b[0m\u001b[1;32m      4\u001b[0m \u001b[0;34m\u001b[0m\u001b[0m\n\u001b[1;32m      5\u001b[0m \u001b[0mWindow\u001b[0m \u001b[0;34m=\u001b[0m \u001b[0mcv2\u001b[0m\u001b[0;34m.\u001b[0m\u001b[0mrectangle\u001b[0m\u001b[0;34m(\u001b[0m\u001b[0mpaintWindow\u001b[0m\u001b[0;34m,\u001b[0m \u001b[0;34m(\u001b[0m\u001b[0;36m160\u001b[0m\u001b[0;34m,\u001b[0m\u001b[0;36m1\u001b[0m\u001b[0;34m)\u001b[0m\u001b[0;34m,\u001b[0m \u001b[0;34m(\u001b[0m\u001b[0;36m255\u001b[0m\u001b[0;34m,\u001b[0m\u001b[0;36m65\u001b[0m\u001b[0;34m)\u001b[0m\u001b[0;34m,\u001b[0m \u001b[0mcolors\u001b[0m\u001b[0;34m[\u001b[0m\u001b[0;36m0\u001b[0m\u001b[0;34m]\u001b[0m\u001b[0;34m,\u001b[0m \u001b[0;34m-\u001b[0m\u001b[0;36m1\u001b[0m\u001b[0;34m)\u001b[0m\u001b[0;34m\u001b[0m\u001b[0;34m\u001b[0m\u001b[0m\n",
            "\u001b[0;31mNameError\u001b[0m: name 'paintWindow' is not defined"
          ]
        }
      ]
    },
    {
      "cell_type": "code",
      "source": [
        "camera = cv2.VideoCapture(0)"
      ],
      "metadata": {
        "id": "_UpKDd-1_BrQ"
      },
      "execution_count": 11,
      "outputs": []
    },
    {
      "cell_type": "code",
      "source": [
        "while True:\n",
        "\n",
        "    (grabbed, frame) = camera.read()\n",
        "\n",
        "    frame = cv2.flip(frame, 1)\n",
        "\n",
        "    hsv = cv2.cvtColor(frame, cv2.COLOR_BGR2HSV)\n",
        "\n",
        "if not grabbed:\n",
        "\n",
        "        Break"
      ],
      "metadata": {
        "colab": {
          "base_uri": "https://localhost:8080/",
          "height": 236
        },
        "id": "9qGPvd2nARQl",
        "outputId": "57986832-962c-45ef-a285-27fa32691e17"
      },
      "execution_count": 12,
      "outputs": [
        {
          "output_type": "error",
          "ename": "error",
          "evalue": "ignored",
          "traceback": [
            "\u001b[0;31m---------------------------------------------------------------------------\u001b[0m",
            "\u001b[0;31merror\u001b[0m                                     Traceback (most recent call last)",
            "\u001b[0;32m<ipython-input-12-697909d2fb9c>\u001b[0m in \u001b[0;36m<cell line: 1>\u001b[0;34m()\u001b[0m\n\u001b[1;32m      5\u001b[0m     \u001b[0mframe\u001b[0m \u001b[0;34m=\u001b[0m \u001b[0mcv2\u001b[0m\u001b[0;34m.\u001b[0m\u001b[0mflip\u001b[0m\u001b[0;34m(\u001b[0m\u001b[0mframe\u001b[0m\u001b[0;34m,\u001b[0m \u001b[0;36m1\u001b[0m\u001b[0;34m)\u001b[0m\u001b[0;34m\u001b[0m\u001b[0;34m\u001b[0m\u001b[0m\n\u001b[1;32m      6\u001b[0m \u001b[0;34m\u001b[0m\u001b[0m\n\u001b[0;32m----> 7\u001b[0;31m     \u001b[0mhsv\u001b[0m \u001b[0;34m=\u001b[0m \u001b[0mcv2\u001b[0m\u001b[0;34m.\u001b[0m\u001b[0mcvtColor\u001b[0m\u001b[0;34m(\u001b[0m\u001b[0mframe\u001b[0m\u001b[0;34m,\u001b[0m \u001b[0mcv2\u001b[0m\u001b[0;34m.\u001b[0m\u001b[0mCOLOR_BGR2HSV\u001b[0m\u001b[0;34m)\u001b[0m\u001b[0;34m\u001b[0m\u001b[0;34m\u001b[0m\u001b[0m\n\u001b[0m\u001b[1;32m      8\u001b[0m \u001b[0;34m\u001b[0m\u001b[0m\n\u001b[1;32m      9\u001b[0m \u001b[0;32mif\u001b[0m \u001b[0;32mnot\u001b[0m \u001b[0mgrabbed\u001b[0m\u001b[0;34m:\u001b[0m\u001b[0;34m\u001b[0m\u001b[0;34m\u001b[0m\u001b[0m\n",
            "\u001b[0;31merror\u001b[0m: OpenCV(4.7.0) /io/opencv/modules/imgproc/src/color.cpp:182: error: (-215:Assertion failed) !_src.empty() in function 'cvtColor'\n"
          ]
        }
      ]
    },
    {
      "cell_type": "code",
      "source": [
        " kernel = np.ones((5, 5), np.uint8) \n",
        "\n",
        "    Mask = cv2.inRange(hsv, Lower_red, Upper_red)\n",
        "\n",
        "    Mask = cv2.erode(Mask, kernel, iterations=2)\n",
        "\n",
        "    Mask = cv2.morphologyEx(Mask, cv2.MORPH_OPEN, kernel)\n",
        "\n",
        "    Mask = cv2.dilate(Mask, kernel, iterations=1)"
      ],
      "metadata": {
        "colab": {
          "base_uri": "https://localhost:8080/",
          "height": 132
        },
        "id": "Swj9207BAR5E",
        "outputId": "033f77b2-3454-4e02-c969-9711e4d1570a"
      },
      "execution_count": 13,
      "outputs": [
        {
          "output_type": "error",
          "ename": "IndentationError",
          "evalue": "ignored",
          "traceback": [
            "\u001b[0;36m  File \u001b[0;32m\"<ipython-input-13-475ca075ab70>\"\u001b[0;36m, line \u001b[0;32m3\u001b[0m\n\u001b[0;31m    Mask = cv2.inRange(hsv, Lower_red, Upper_red)\u001b[0m\n\u001b[0m    ^\u001b[0m\n\u001b[0;31mIndentationError\u001b[0m\u001b[0;31m:\u001b[0m unexpected indent\n"
          ]
        }
      ]
    },
    {
      "cell_type": "code",
      "source": [
        "(cnts, _) = cv2.findContours(blueMask.copy(), cv2.RETR_EXTERNAL,\n",
        "\n",
        "      cv2.CHAIN_APPROX_SIMPLE)\n",
        "\n",
        "    center = None"
      ],
      "metadata": {
        "colab": {
          "base_uri": "https://localhost:8080/",
          "height": 132
        },
        "id": "oZ8T-_lwAXCq",
        "outputId": "57173d9b-2c5c-4067-ffa7-a04ef3a9564f"
      },
      "execution_count": 14,
      "outputs": [
        {
          "output_type": "error",
          "ename": "IndentationError",
          "evalue": "ignored",
          "traceback": [
            "\u001b[0;36m  File \u001b[0;32m\"<ipython-input-14-a9b433cbb3d4>\"\u001b[0;36m, line \u001b[0;32m5\u001b[0m\n\u001b[0;31m    center = None\u001b[0m\n\u001b[0m    ^\u001b[0m\n\u001b[0;31mIndentationError\u001b[0m\u001b[0;31m:\u001b[0m unexpected indent\n"
          ]
        }
      ]
    },
    {
      "cell_type": "code",
      "source": [
        "if len(cnts) > 0:\n",
        "\n",
        "        cnt = sorted(cnts, key = cv2.contourArea, reverse = True)[0]\n",
        "\n",
        "        ((x, y), radius) = cv2.minEnclosingCircle(cnt)\n",
        "\n",
        "        cv2.circle(frame, (int(x), int(y)), int(radius), (0, 255, 255), 2)\n",
        "\n",
        "        M = cv2.moments(cnt)\n",
        "\n",
        "        center = (int(M['m10'] / M['m00']), int(M['m01'] / M['m00'])"
      ],
      "metadata": {
        "colab": {
          "base_uri": "https://localhost:8080/",
          "height": 132
        },
        "id": "zY3lw7A7AbXy",
        "outputId": "f56decc2-654c-46e1-bd8a-cbb67e7b43ee"
      },
      "execution_count": 15,
      "outputs": [
        {
          "output_type": "error",
          "ename": "SyntaxError",
          "evalue": "ignored",
          "traceback": [
            "\u001b[0;36m  File \u001b[0;32m\"<ipython-input-15-f79cee840808>\"\u001b[0;36m, line \u001b[0;32m11\u001b[0m\n\u001b[0;31m    center = (int(M['m10'] / M['m00']), int(M['m01'] / M['m00'])\u001b[0m\n\u001b[0m                                                                ^\u001b[0m\n\u001b[0;31mSyntaxError\u001b[0m\u001b[0;31m:\u001b[0m incomplete input\n"
          ]
        }
      ]
    },
    {
      "cell_type": "code",
      "source": [
        "   if center[1] <= 65:\n",
        "\n",
        "            if 40 <= center[0] <= 140: # Clear All\n",
        "\n",
        "                bpoints = [deque(maxlen=512)]\n",
        "\n",
        "                gpoints = [deque(maxlen=512)]\n",
        "\n",
        "                rpoints = [deque(maxlen=512)]\n",
        "\n",
        "                ypoints = [deque(maxlen=512)]\n",
        "\n",
        "                bindex = 0, gindex = 0, rindex = 0,yindex = 0\n",
        "\n",
        "                paintWindow[67:,:,:] = 255\n",
        "\n",
        "            elif 160 <= center[0] <= 255:\n",
        "\n",
        "                    colorIndex = 0\n",
        "\n",
        "            elif 275 <= center[0] <= 370:\n",
        "\n",
        "                    colorIndex = 1\n",
        "\n",
        "            elif 390 <= center[0] <= 485:\n",
        "\n",
        "                    colorIndex = 2\n",
        "\n",
        "            elif 505 <= center[0] <= 600:\n",
        "\n",
        "                    colorIndex = 3\n",
        "\n",
        "        else :\n",
        "\n",
        "            if colorIndex == 0:\n",
        "\n",
        "                bpoints[bindex].appendleft(center)\n",
        "\n",
        "            elif colorIndex == 1:\n",
        "\n",
        "                gpoints[gindex].appendleft(center)\n",
        "\n",
        "            elif colorIndex == 2:\n",
        "\n",
        "                rpoints[rindex].appendleft(center)\n",
        "\n",
        "            elif colorIndex == 3:\n",
        "\n",
        "                ypoints[yindex].appendleft(center)"
      ],
      "metadata": {
        "colab": {
          "base_uri": "https://localhost:8080/",
          "height": 132
        },
        "id": "Q5uXkDVmAhU_",
        "outputId": "54d669f8-b069-4a6e-dfe0-0fb225ca6e52"
      },
      "execution_count": 17,
      "outputs": [
        {
          "output_type": "error",
          "ename": "IndentationError",
          "evalue": "ignored",
          "traceback": [
            "\u001b[0;36m  File \u001b[0;32m\"<tokenize>\"\u001b[0;36m, line \u001b[0;32m33\u001b[0m\n\u001b[0;31m    else :\u001b[0m\n\u001b[0m    ^\u001b[0m\n\u001b[0;31mIndentationError\u001b[0m\u001b[0;31m:\u001b[0m unindent does not match any outer indentation level\n"
          ]
        }
      ]
    },
    {
      "cell_type": "code",
      "source": [
        " points = [bpoints, gpoints, rpoints, ypoints]\n",
        "\n",
        "    for i in range(len(points)):\n",
        "\n",
        "        for j in range(len(points[i])):\n",
        "\n",
        "            for k in range(1, len(points[i][j])):\n",
        "\n",
        "                if points[i][j][k - 1] is None or points[i][j][k] is None:\n",
        "\n",
        "                    continue\n",
        "\n",
        "                cv2.line(frame, points[i][j][k - 1], points[i][j][k], colors[i], 2)\n",
        "\n",
        "                cv2.line(paintWindow, points[i][j][k - 1], points[i][j][k], colors[i], 2)\n",
        "\n",
        "In the below code snippet, we are displaying the output video\n",
        "\n",
        "   cv2.imshow(\"Web_cam_video\", frame)\n",
        "\n",
        "  cv2.imshow(\"Paint\", paintWindow) \n",
        "\n"
      ],
      "metadata": {
        "colab": {
          "base_uri": "https://localhost:8080/",
          "height": 132
        },
        "id": "YlTQhspkAoVM",
        "outputId": "6721f292-0ba9-4169-ab45-7aac6771c8f1"
      },
      "execution_count": 19,
      "outputs": [
        {
          "output_type": "error",
          "ename": "IndentationError",
          "evalue": "ignored",
          "traceback": [
            "\u001b[0;36m  File \u001b[0;32m\"<tokenize>\"\u001b[0;36m, line \u001b[0;32m21\u001b[0m\n\u001b[0;31m    cv2.imshow(\"Paint\", paintWindow)\u001b[0m\n\u001b[0m    ^\u001b[0m\n\u001b[0;31mIndentationError\u001b[0m\u001b[0;31m:\u001b[0m unindent does not match any outer indentation level\n"
          ]
        }
      ]
    },
    {
      "cell_type": "code",
      "source": [],
      "metadata": {
        "id": "e--4n8-IAtwT"
      },
      "execution_count": null,
      "outputs": []
    }
  ]
}